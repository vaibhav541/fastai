{
 "cells": [
  {
   "cell_type": "code",
   "execution_count": 2,
   "metadata": {},
   "outputs": [],
   "source": [
    "%reload_ext autoreload\n",
    "%autoreload 2\n",
    "%matplotlib inline"
   ]
  },
  {
   "cell_type": "code",
   "execution_count": 3,
   "metadata": {},
   "outputs": [],
   "source": [
    "from fastai.imports import *\n",
    "\n",
    "from fastai.transforms import *\n",
    "from fastai.conv_learner import *\n",
    "from fastai.model import *\n",
    "from fastai.dataset import *\n",
    "from fastai.sgdr import *\n",
    "from fastai.plots import *"
   ]
  },
  {
   "cell_type": "code",
   "execution_count": 4,
   "metadata": {},
   "outputs": [],
   "source": [
    "PATH = \"data/hwd/\"\n",
    "sz=224\n",
    "arch=resnet34\n",
    "bs=64"
   ]
  },
  {
   "cell_type": "code",
   "execution_count": 5,
   "metadata": {},
   "outputs": [],
   "source": [
    "\n",
    "import os\n",
    "\n",
    "def list_files(startpath):\n",
    "    for root, dirs, files in os.walk(startpath):\n",
    "        level = root.replace(startpath, '').count(os.sep)\n",
    "        indent = ' ' * 4 * (level)\n",
    "        print('{}{}/'.format(indent, os.path.basename(root)))\n",
    "        subindent = ' ' * 4 * (level + 1)\n",
    "        #for f in files:\n",
    "            #print('{}{}'.format(subindent, f))\n"
   ]
  },
  {
   "cell_type": "code",
   "execution_count": 6,
   "metadata": {},
   "outputs": [
    {
     "name": "stdout",
     "output_type": "stream",
     "text": [
      "/\n",
      "test/\n",
      ".ipynb_checkpoints/\n",
      "valid/\n",
      "    6/\n",
      "    9/\n",
      "    7/\n",
      "    1/\n",
      "    5/\n",
      "    4/\n",
      "    0/\n",
      "    2/\n",
      "    8/\n",
      "    3/\n",
      "train/\n",
      "    6/\n",
      "    .ipynb_checkpoints/\n",
      "    9/\n",
      "    7/\n",
      "    1/\n",
      "    5/\n",
      "    4/\n",
      "    0/\n",
      "    2/\n",
      "    8/\n",
      "    3/\n",
      "models/\n",
      "tmp/\n",
      "    x_act_test_resnet34_0_224.bc/\n",
      "        meta/\n",
      "        data/\n",
      "    x_act_val_resnet34_0_224.bc/\n",
      "        meta/\n",
      "        data/\n",
      "    x_act_resnet34_0_224.bc/\n",
      "        meta/\n",
      "        data/\n"
     ]
    }
   ],
   "source": [
    "PATH = \"data/hwd/\"\n",
    "list_files(PATH)"
   ]
  },
  {
   "cell_type": "code",
   "execution_count": 5,
   "metadata": {},
   "outputs": [],
   "source": [
    "data = ImageClassifierData.from_paths(PATH, tfms=tfms_from_model(arch, sz))"
   ]
  },
  {
   "cell_type": "code",
   "execution_count": 6,
   "metadata": {},
   "outputs": [],
   "source": [
    "learn = ConvLearner.pretrained(arch, data, precompute=True)"
   ]
  },
  {
   "cell_type": "code",
   "execution_count": 7,
   "metadata": {},
   "outputs": [
    {
     "data": {
      "application/vnd.jupyter.widget-view+json": {
       "model_id": "91ce84b471104ee98094fd363c5bb1e1",
       "version_major": 2,
       "version_minor": 0
      },
      "text/html": [
       "<p>Failed to display Jupyter Widget of type <code>HBox</code>.</p>\n",
       "<p>\n",
       "  If you're reading this message in the Jupyter Notebook or JupyterLab Notebook, it may mean\n",
       "  that the widgets JavaScript is still loading. If this message persists, it\n",
       "  likely means that the widgets JavaScript library is either not installed or\n",
       "  not enabled. See the <a href=\"https://ipywidgets.readthedocs.io/en/stable/user_install.html\">Jupyter\n",
       "  Widgets Documentation</a> for setup instructions.\n",
       "</p>\n",
       "<p>\n",
       "  If you're reading this message in another frontend (for example, a static\n",
       "  rendering on GitHub or <a href=\"https://nbviewer.jupyter.org/\">NBViewer</a>),\n",
       "  it may mean that your frontend doesn't currently support widgets.\n",
       "</p>\n"
      ],
      "text/plain": [
       "HBox(children=(IntProgress(value=0, description='Epoch', max=3), HTML(value='')))"
      ]
     },
     "metadata": {},
     "output_type": "display_data"
    },
    {
     "name": "stdout",
     "output_type": "stream",
     "text": [
      "[ 0.       0.26754  9.10068  0.00408]                        \n",
      "[  1.        0.22019  10.41173   0.00338]                    \n",
      "[  2.        0.18755  10.81627   0.00303]                    \n",
      "\n"
     ]
    }
   ],
   "source": [
    "learn.fit(0.01, 3, cycle_len=1)"
   ]
  },
  {
   "cell_type": "code",
   "execution_count": 12,
   "metadata": {},
   "outputs": [
    {
     "name": "stdout",
     "output_type": "stream",
     "text": [
      "                                             \r"
     ]
    }
   ],
   "source": [
    "log_preds,y = learn.TTA()\n",
    "probs = np.mean(np.exp(log_preds), axis=0)\n",
    "#metrics.log_loss(y, np.exp(log_preds[:,1:])), accuracy(log_preds[:,1:],y)\n"
   ]
  },
  {
   "cell_type": "code",
   "execution_count": 13,
   "metadata": {},
   "outputs": [
    {
     "data": {
      "text/plain": [
       "array([[[ -8.92906,  -0.00886, -10.36787, ...,  -9.19682,  -9.59502,  -9.44465],\n",
       "        [ -9.97076,  -0.00127,  -9.71914, ..., -11.02994, -11.90639, -10.52658],\n",
       "        [-11.44629,  -0.00051, -12.84641, ..., -14.21868,  -9.61252,  -7.92266],\n",
       "        ..., \n",
       "        [-11.91037, -10.97996, -11.50749, ..., -11.09465,  -9.36309,  -0.00019],\n",
       "        [-10.25551, -13.78734, -13.31952, ...,  -9.81339,  -8.20627,  -0.00087],\n",
       "        [-12.01468, -11.96989, -11.92965, ..., -13.24583,  -9.81113,  -0.00008]],\n",
       "\n",
       "       [[ -8.92906,  -0.00886, -10.36787, ...,  -9.19682,  -9.59502,  -9.44465],\n",
       "        [ -9.97076,  -0.00127,  -9.71914, ..., -11.02994, -11.90639, -10.52658],\n",
       "        [-11.44629,  -0.00051, -12.84641, ..., -14.21868,  -9.61252,  -7.92266],\n",
       "        ..., \n",
       "        [-11.91037, -10.97996, -11.50749, ..., -11.09465,  -9.36309,  -0.00019],\n",
       "        [-10.25551, -13.78734, -13.31952, ...,  -9.81339,  -8.20627,  -0.00087],\n",
       "        [-12.01468, -11.96989, -11.92965, ..., -13.24583,  -9.81113,  -0.00008]],\n",
       "\n",
       "       [[ -8.92906,  -0.00886, -10.36787, ...,  -9.19682,  -9.59502,  -9.44465],\n",
       "        [ -9.97076,  -0.00127,  -9.71914, ..., -11.02994, -11.90639, -10.52658],\n",
       "        [-11.44629,  -0.00051, -12.84641, ..., -14.21868,  -9.61252,  -7.92266],\n",
       "        ..., \n",
       "        [-11.91037, -10.97996, -11.50749, ..., -11.09465,  -9.36309,  -0.00019],\n",
       "        [-10.25551, -13.78734, -13.31952, ...,  -9.81339,  -8.20627,  -0.00087],\n",
       "        [-12.01468, -11.96989, -11.92965, ..., -13.24583,  -9.81113,  -0.00008]],\n",
       "\n",
       "       [[ -8.92906,  -0.00886, -10.36787, ...,  -9.19682,  -9.59502,  -9.44465],\n",
       "        [ -9.97076,  -0.00127,  -9.71914, ..., -11.02994, -11.90639, -10.52658],\n",
       "        [-11.44629,  -0.00051, -12.84641, ..., -14.21868,  -9.61252,  -7.92266],\n",
       "        ..., \n",
       "        [-11.91037, -10.97996, -11.50749, ..., -11.09465,  -9.36309,  -0.00019],\n",
       "        [-10.25551, -13.78734, -13.31952, ...,  -9.81339,  -8.20627,  -0.00087],\n",
       "        [-12.01468, -11.96989, -11.92965, ..., -13.24583,  -9.81113,  -0.00008]],\n",
       "\n",
       "       [[ -8.92906,  -0.00886, -10.36787, ...,  -9.19682,  -9.59502,  -9.44465],\n",
       "        [ -9.97076,  -0.00127,  -9.71914, ..., -11.02994, -11.90639, -10.52658],\n",
       "        [-11.44629,  -0.00051, -12.84641, ..., -14.21868,  -9.61252,  -7.92266],\n",
       "        ..., \n",
       "        [-11.91037, -10.97996, -11.50749, ..., -11.09465,  -9.36309,  -0.00019],\n",
       "        [-10.25551, -13.78734, -13.31952, ...,  -9.81339,  -8.20627,  -0.00087],\n",
       "        [-12.01468, -11.96989, -11.92965, ..., -13.24583,  -9.81113,  -0.00008]]], dtype=float32)"
      ]
     },
     "execution_count": 13,
     "metadata": {},
     "output_type": "execute_result"
    }
   ],
   "source": [
    "log_preds"
   ]
  },
  {
   "cell_type": "code",
   "execution_count": 14,
   "metadata": {},
   "outputs": [],
   "source": [
    "log_preds = learn.predict(is_test=False)\n",
    "metrics.log_loss(y, np.exp(log_preds[:,1:])), accuracy(log_preds[:,1:],y)\n",
    "probs = np.exp(log_preds)"
   ]
  },
  {
   "cell_type": "code",
   "execution_count": null,
   "metadata": {},
   "outputs": [],
   "source": [
    "log_preds"
   ]
  },
  {
   "cell_type": "code",
   "execution_count": 11,
   "metadata": {},
   "outputs": [
    {
     "data": {
      "text/plain": [
       "array([[ 0.00013,  0.99118,  0.00003,  0.00296,  0.0002 ,  0.00004,  0.00007,  0.00514,  0.0001 ,  0.00007,\n",
       "         0.00008],\n",
       "       [ 0.00005,  0.99873,  0.00006,  0.00001,  0.00003,  0.00002,  0.00026,  0.00079,  0.00002,  0.00001,\n",
       "         0.00003],\n",
       "       [ 0.00001,  0.99949,  0.     ,  0.00001,  0.00002,  0.     ,  0.00001,  0.00004,  0.     ,  0.00007,\n",
       "         0.00036],\n",
       "       [ 0.00004,  0.99595,  0.00001,  0.00027,  0.00129,  0.00009,  0.00006,  0.0022 ,  0.00001,  0.00008,\n",
       "         0.     ],\n",
       "       [ 0.     ,  0.99984,  0.     ,  0.     ,  0.     ,  0.     ,  0.     ,  0.00014,  0.     ,  0.     ,\n",
       "         0.00001],\n",
       "       [ 0.00102,  0.96982,  0.00041,  0.00529,  0.00149,  0.00008,  0.00227,  0.00221,  0.00051,  0.01052,\n",
       "         0.00638],\n",
       "       [ 0.00001,  0.99978,  0.00001,  0.00001,  0.     ,  0.     ,  0.     ,  0.00017,  0.     ,  0.     ,\n",
       "         0.00002],\n",
       "       [ 0.00018,  0.97729,  0.00016,  0.00027,  0.00004,  0.00024,  0.00013,  0.02147,  0.00009,  0.00006,\n",
       "         0.00009],\n",
       "       [ 0.     ,  0.99954,  0.     ,  0.00003,  0.     ,  0.     ,  0.     ,  0.00039,  0.     ,  0.     ,\n",
       "         0.00003]], dtype=float32)"
      ]
     },
     "execution_count": 11,
     "metadata": {},
     "output_type": "execute_result"
    }
   ],
   "source": [
    "probs[:9]"
   ]
  },
  {
   "cell_type": "code",
   "execution_count": null,
   "metadata": {},
   "outputs": [],
   "source": []
  }
 ],
 "metadata": {
  "kernelspec": {
   "display_name": "Python 3",
   "language": "python",
   "name": "python3"
  },
  "language_info": {
   "codemirror_mode": {
    "name": "ipython",
    "version": 3
   },
   "file_extension": ".py",
   "mimetype": "text/x-python",
   "name": "python",
   "nbconvert_exporter": "python",
   "pygments_lexer": "ipython3",
   "version": "3.6.4"
  }
 },
 "nbformat": 4,
 "nbformat_minor": 2
}
